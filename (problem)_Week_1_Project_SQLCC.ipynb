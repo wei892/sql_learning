{
  "nbformat": 4,
  "nbformat_minor": 0,
  "metadata": {
    "colab": {
      "provenance": [],
      "collapsed_sections": [
        "Pg-a7-xULZ7m"
      ],
      "include_colab_link": true
    },
    "kernelspec": {
      "name": "python3",
      "display_name": "Python 3"
    },
    "language_info": {
      "name": "python"
    }
  },
  "cells": [
    {
      "cell_type": "markdown",
      "metadata": {
        "id": "view-in-github",
        "colab_type": "text"
      },
      "source": [
        "<a href=\"https://colab.research.google.com/github/wei892/sql_learning/blob/main/(problem)_Week_1_Project_SQLCC.ipynb\" target=\"_parent\"><img src=\"https://colab.research.google.com/assets/colab-badge.svg\" alt=\"Open In Colab\"/></a>"
      ]
    },
    {
      "cell_type": "markdown",
      "source": [
        "> 1. **DUPLICATE THIS COLAB TO START WORKING ON IT** Using File > Save a copy to drive.\n",
        "> 2. **SHARE SETTINGS** In the new notebook, set the sharing settings to \"Anyone with the link\" can be a \"Commenter\" by clicking \"Share\" on the top right corner.\n",
        "\n",
        "<center>\n",
        "  <img src=https://www.tenants.org.au/sites/default/files/inline-images/Airbnb-Sydney-Harbour-Bridge-web%20copy.jpg width=\"400\" align=\"center\" />\n",
        "</center>\n",
        "<br/>\n",
        "\n",
        "# Week 1: Launching Airbnb Sydney!!\n",
        "\n",
        "Welcome to this first week's project for *SQL Crash Course*!\n",
        "\n",
        "This week's lecture and material on CoRise showed you how to retrieve data directly from a database. For this project we further your understanding of these concepts by delving a bit deeper. However, for everything covered in this project you can find related examples in our course material.\n"
      ],
      "metadata": {
        "id": "yVrZZ06OG2LW"
      }
    },
    {
      "cell_type": "markdown",
      "source": [
        "##### Prerequisite configuration\n",
        "Below we install the software required to run this project. Please make sure to **RUN IT** by clicking on the play-button icon when you hover on the empty square bracket. And feel free to ignore the content of these two hidden cells.\n",
        "\n",
        "**IMPORTANT: These cells may have to be rerun every time you are away from the notebook a long time or access notebook on a different browser or a different laptop. If you see an error that says \"NameError: name 'run' is not defined\" you need to run these two hidden cells again.**"
      ],
      "metadata": {
        "id": "Pg-a7-xULZ7m"
      }
    },
    {
      "cell_type": "code",
      "execution_count": null,
      "metadata": {
        "id": "gUx2DQloGAzk"
      },
      "outputs": [],
      "source": [
        "%%capture\n",
        "!pip install git+https://github.com/sb2nov/sql-cc.git"
      ]
    },
    {
      "cell_type": "code",
      "source": [
        "import pandas as pd\n",
        "from IPython.display import display, HTML\n",
        "import sqlcc\n",
        "from sqlcc import check\n",
        "\n",
        "# Show all the rows (instead of only a few)\n",
        "pd.set_option(\"display.max_rows\", None)\n",
        "\n",
        "# Set precision to max 2 decimals\n",
        "pd.set_option('display.precision', 2)\n",
        "\n",
        "# Set CSS Style for Table\n",
        "# Make it work with night & light mode\n",
        "# - Alternating rows\n",
        "# - th elements\n",
        "# - td elements\n",
        "css_style = '''\n",
        "<style>\n",
        "  html {\n",
        "    --td-font-color: black;\n",
        "    --font-color: black;\n",
        "    --background-color: #e0e0e0;\n",
        "  }\n",
        "  html[theme=dark] {\n",
        "    --td-font-color: white;\n",
        "    --font-color: black;\n",
        "    --background-color: #6688ff;\n",
        "  }\n",
        "  th {\n",
        "    background: #fbd44c;\n",
        "    color: var(--font-color);\n",
        "    font-size: 16px;\n",
        "    text-align: center;\n",
        "    font-weight: bold;\n",
        "  }\n",
        "  tr:nth-child(even) {\n",
        "    background-color: var(--background-color);\n",
        "    color: var(--font-color);\n",
        "  }\n",
        "  td {\n",
        "    font-size: 14px;\n",
        "    color: var(--td-font-color);\n",
        "  }\n",
        "</style>\n",
        "'''\n",
        "\n",
        "\n",
        "def run(sql_query):\n",
        "  df = sqlcc.run(sql_query)\n",
        "\n",
        "  # Puts the scrollbar next to the DataFrame\n",
        "  display(HTML(css_style +\n",
        "               \"<div style='max-height: 500px; overflow: auto; width: fit-content; border-style: solid;\" +\n",
        "               \" border-width: 1px; border-color: #0139fe; font-family: GT Planar,Inter,Arial,sans-serif;'>\" +\n",
        "               df.style.to_html() +\n",
        "               \"</div>\"))"
      ],
      "metadata": {
        "id": "n-vdL9gWT2rm"
      },
      "execution_count": null,
      "outputs": []
    },
    {
      "cell_type": "markdown",
      "source": [
        "## Introduction\n",
        "\n",
        "As the General manager for the Sydney area at Airbnb, you want to know more about the different listings of houses and rooms your team has onboarded. You have access to information regarding the **calendar**, **listings**, **reviews**, and **neighbourhoods**. Each of these have their own separate table.\n",
        "\n",
        "<img src=\"https://corise.com/static/course/sql-crash-course/assets/cl9owz44x005e13a00fb5fhl0/Screen Shot 2022-10-25 at 5.42.23 PM.png\" height=\"450\">\n",
        "\n",
        "## Running and Testing Queries\n",
        "\n",
        "To access the data contained in these four previously mentioned tables, you need to write SQL between the triple quotation marks, like:\n",
        "\n",
        "```\n",
        "query = \"\"\"\n",
        "SELECT * FROM listings\n",
        "\"\"\"\n",
        "run(query)\n",
        "check(q1_1_1 = query)\n",
        "```\n",
        "\n",
        "Then that SQL is pulled through a `run()`-command and a `check()`-command so that you can see the output of the SQL query, and whether you wrote the expected query. This you can see after the output. If you've done it correctly, you'll see **\"Your SQL query is correct!\"**."
      ],
      "metadata": {
        "id": "r3dr-nPLL0KA"
      }
    },
    {
      "cell_type": "code",
      "source": [
        "### Question: q1_1_1\n",
        "query = \"\"\"\n",
        "SELECT * FROM listings\n",
        "\"\"\"\n",
        "\n",
        "run(query)\n",
        "check(q1_1_1 = query)"
      ],
      "metadata": {
        "id": "44YlTkIFUuOD"
      },
      "execution_count": null,
      "outputs": []
    },
    {
      "cell_type": "markdown",
      "source": [
        "This vertically-scrollable table displays all of the data contained in the listings table. To get a more complete picture of the data, it would be great to also have an idea of how the rest of the tables look. Since we have only shown you the listings table, it is a good idea for you to explore the other three tables as well.\n",
        "\n",
        "\n",
        "## Part 1: Exploring data in other tables\n",
        "\n",
        "Modify each of the following code blocks to show data from the other three tables (just like we did for the listings table).\n",
        "\n"
      ],
      "metadata": {
        "id": "K_ThcCPtaHi5"
      }
    },
    {
      "cell_type": "code",
      "source": [
        "### Question: q1_1_2a\n",
        "# Instructions: Fetch data from the entire neighbourhoods table\n",
        "\n",
        "# TO BE COMPLETED\n",
        "query = \"\"\"\n",
        "SELECT * neighbourhoods\n",
        "\"\"\"\n",
        "\n",
        "run(query)\n",
        "check(q1_1_2a = query)"
      ],
      "metadata": {
        "id": "Z23ipVs8TLqL"
      },
      "execution_count": null,
      "outputs": []
    },
    {
      "cell_type": "code",
      "source": [
        "### Question: q1_1_2b\n",
        "# Instructions: Fetch data from the entire reviews table\n",
        "\n",
        "# TO BE COMPLETED\n",
        "query = \"\"\"\n",
        "SELECT ??? reviews\n",
        "\"\"\"\n",
        "\n",
        "run(query)\n",
        "check(q1_1_2b = query)"
      ],
      "metadata": {
        "id": "63mB7QCOTOEF"
      },
      "execution_count": null,
      "outputs": []
    },
    {
      "cell_type": "code",
      "source": [
        "### Question: q1_1_2c\n",
        "# Instructions: Fetch data from the entire calendar table\n",
        "\n",
        "# TO BE COMPLETED\n",
        "query = \"\"\"\n",
        "SELECT ??? calendar\n",
        "\"\"\"\n",
        "\n",
        "run(query)\n",
        "check(q1_1_2c = query)"
      ],
      "metadata": {
        "id": "aIpANzaFTRjm"
      },
      "execution_count": null,
      "outputs": []
    },
    {
      "cell_type": "markdown",
      "source": [
        "## Crunchin' Code\n",
        "\n",
        "Now that you're getting a feel for the data, it's time to buckle up and write some SQL!\n",
        "\n",
        "As we discussed in this week's material, SQL will help you answer questions about the Airbnb data quickly and at scale! Let's dive a bit deeper into our current example with you, once again, as the General manager for the newly-opened Airbnb Sydney.\n",
        "\n",
        "_______\n",
        "\n",
        "## Part 2: Printing list of host_id to host\n",
        "\n",
        "Currently, the administrative system at our Airbnb Sydney office shows the host_id when the host calls our helpdesk. But this is very impersonal, and not ideal to answer the phone, “hello host_id 12345!” Due to company policy, helpdesk operators do not have access to the full database, and we also don’t have a system yet in place to offer only partial access. Still, we are determined to leave a good impression on everyone who calls us by knowing their name! One idea is to provide everyone access to a database print-out of the host_id with the host name. **Can you help us write this query to return this list?**\n"
      ],
      "metadata": {
        "id": "FCWFnB7BCeaC"
      }
    },
    {
      "cell_type": "code",
      "source": [
        "### Question: q1_2_1\n",
        "# Instructions: Fetch host_id and host from the listings table\n",
        "\n",
        "# TO BE COMPLETED\n",
        "query = \"\"\"\n",
        "SELECT ???\n",
        "\"\"\"\n",
        "\n",
        "run(query)\n",
        "check(q1_2_1 = query)"
      ],
      "metadata": {
        "id": "M2d85TccTV63"
      },
      "execution_count": null,
      "outputs": []
    },
    {
      "cell_type": "markdown",
      "source": [
        "Well that’s pretty useful, but not that useful! How would a helpdesk operator find a host quickly when the list is not ordered? **Let's fix the ordering by adapting the query to make it order descendingly on host_id.**\n"
      ],
      "metadata": {
        "id": "1q-on41FGv8p"
      }
    },
    {
      "cell_type": "code",
      "source": [
        "### Question: q1_2_2\n",
        "# Instructions:\n",
        "# 1/ Fetch host_id and host from the listings table\n",
        "# 2/ Make sure the output is sorted by host_id in descending order\n",
        "\n",
        "# TO BE COMPLETED\n",
        "query = \"\"\"\n",
        "SELECT ???\n",
        "\"\"\"\n",
        "\n",
        "run(query)\n",
        "check(q1_2_2 = query)"
      ],
      "metadata": {
        "id": "cz5aQEBwTovf"
      },
      "execution_count": null,
      "outputs": []
    },
    {
      "cell_type": "markdown",
      "source": [
        "---\n",
        "\n",
        "## Part 3: Additional filters on the printed output\n",
        "\n",
        "Unfortunately, asking employees to look at the printout of this list isn't going to be a scalable solution especially as we continually add new neighbourhoods. As a temporary solution, let's assign one neighbourhood to each of our employees so they have a smaller printout of listings to keep track of.\n",
        "\n",
        "**How would you adapt the query to be sorted by *host_id*, to display the host_id and the host, and to be restricted to the neighbourhood_id of a particular neighbourhood, let's say number 35?**\n"
      ],
      "metadata": {
        "id": "J_MdpkDpHIzX"
      }
    },
    {
      "cell_type": "code",
      "source": [
        "### Question: q1_2_3\n",
        "# Instructions:\n",
        "# 1/ Fetch only host_id, host from the listings table\n",
        "# 2/ Make sure you filtered the data to just neighbourhood_id=35\n",
        "# 3/ Make sure the output is sorted by host_id in descending order\n",
        "\n",
        "# TO BE COMPLETED\n",
        "query = \"\"\"\n",
        "SELECT ???\n",
        "\"\"\"\n",
        "\n",
        "run(query)\n",
        "check(q1_2_3 = query)"
      ],
      "metadata": {
        "id": "KfKlwOHaTx32"
      },
      "execution_count": null,
      "outputs": []
    },
    {
      "cell_type": "markdown",
      "source": [
        "Hmmm... our business is growing day by. The number of people that we have currently employed has increased by a staggering 120%. So, in the future, there is potential to split up our list even further and divide it among many more employees who can be on-call. Our best option for now is splitting the list on the number of the neighbourhood AND room_type. **Find all the listings where we set our neighbourhood_id to 27 and \"Private room\".**\n"
      ],
      "metadata": {
        "id": "dwrNr-xlH8QH"
      }
    },
    {
      "cell_type": "code",
      "source": [
        "### Question: q1_2_4\n",
        "# Instructions:\n",
        "# 1/ Fetch host_id, host from the listings table\n",
        "# 2/ Make sure you filtered the data to just neighbourhood_id=27 and room_type='Private room'\n",
        "# 3/ Make sure the output is sorted by host_id in descending order\n",
        "\n",
        "# TO BE COMPLETED\n",
        "query = \"\"\"\n",
        "SELECT ???\n",
        "\"\"\"\n",
        "\n",
        "run(query)\n",
        "check(q1_2_4 = query)"
      ],
      "metadata": {
        "id": "RVDBFQkzT9gO"
      },
      "execution_count": null,
      "outputs": []
    },
    {
      "cell_type": "markdown",
      "source": [
        "It was super helpful to have SQL skills to print out our user lists... BUT the future is digital. So let's now focus on a new type of scenario.\n",
        "\n",
        "---\n",
        "\n",
        "## Part 4: Maggie's question?\n",
        "\n",
        "You're doing a shift of answering phones, and a host calls with an important question. Her name is Maggie, and she is known to us by the *listing_id* of 7581665.\n",
        "\n",
        "She is curious whether the changes she made to the calendar on the website are reflected in our system. Maggie generally charges 300 dollars per night. She has noticed however, that she can charge a little bit more on Friday and Saturday nights. She updated the price to 350 dollars for Friday, September 9th 2022 and Saturday, September 10th in 2022. She wants to double check that change went through and if that corresponds with our database.\n",
        "\n",
        "**Please help confirm this for Maggie by writing a query for the calendar table, to provide us with all of the calendar listings between the date of 2022-09-09 and 2022-09-11.**\n"
      ],
      "metadata": {
        "id": "OFU6zHmROOV8"
      }
    },
    {
      "cell_type": "code",
      "source": [
        "### Question: q1_2_5\n",
        "# Instructions:\n",
        "# 1/ Fetch all columns from the calendar table\n",
        "# 2/ Make sure you filtered the data to dates between 2022-09-09 and 2022-09-11\n",
        "\n",
        "# TO BE COMPLETED\n",
        "query = \"\"\"\n",
        "SELECT * FROM calendar ???\n",
        "\"\"\"\n",
        "\n",
        "run(query)\n",
        "check(q1_2_5 = query)"
      ],
      "metadata": {
        "id": "Kw3tRQ1JUG95"
      },
      "execution_count": null,
      "outputs": []
    },
    {
      "cell_type": "markdown",
      "source": [
        "Now, let's add another condition to the query of the previous step. Let's filter on listing_id 7581665.\n"
      ],
      "metadata": {
        "id": "kHAqugAKC_O4"
      }
    },
    {
      "cell_type": "code",
      "source": [
        "### Question: q1_2_6\n",
        "# Instructions:\n",
        "# 1/ Fetch all columns from the calendar table\n",
        "# 2/ Make sure you filtered the data to dates between 2022-09-09 and 2022-09-11\n",
        "# 3/ Make sure you filtered the data to listing_id=7581665\n",
        "\n",
        "# TO BE COMPLETED\n",
        "query = \"\"\"\n",
        "SELECT ???\n",
        "\"\"\"\n",
        "\n",
        "run(query)\n",
        "check(q1_2_6 = query)"
      ],
      "metadata": {
        "id": "Swj0irY9Um_T"
      },
      "execution_count": null,
      "outputs": []
    },
    {
      "cell_type": "markdown",
      "source": [
        "What do you tell Maggie? Did the price update work?\n",
        "\n",
        "----\n",
        "\n",
        "## Part 5: Helping out Rick\n",
        "\n",
        "You just got off a call with a dissatisfied host who has a  *listing_id* of *657377039990074158*. His name is Rick, and he was angry that no customers seemed to book his listing for the coming week (or past weeks for that matter). He wants us to promote his listing on our website more prominently, otherwise he might stop being our customer. We believe there might be some other issues at hand. Could you investigate and share us some of your findings as to why nobody is booking Rick's listing? We suggest you look at the **calendar**, **reviews**, and **listings**. Please report any findings you deem relevant."
      ],
      "metadata": {
        "id": "OTCHgKw0SXMm"
      }
    },
    {
      "cell_type": "code",
      "source": [
        "### Question: q1_2_7a\n",
        "# Instructions:\n",
        "# 1/ Fetch all columns from the calendar table\n",
        "# 2/ Make sure you filtered the data to listing_id=657377039990074158\n",
        "\n",
        "# TO BE COMPLETED\n",
        "query = \"\"\"\n",
        "SELECT ???\n",
        "\"\"\"\n",
        "\n",
        "run(query)\n",
        "check(q1_2_7a = query)"
      ],
      "metadata": {
        "id": "lC1VoSV-Uwb6"
      },
      "execution_count": null,
      "outputs": []
    },
    {
      "cell_type": "markdown",
      "source": [
        "Looks like the apartment isn't available on any day - bummer. Let's flag this to Rick."
      ],
      "metadata": {
        "id": "z_AkmvVDwwkY"
      }
    },
    {
      "cell_type": "code",
      "source": [
        "### Question: q1_2_7b\n",
        "# Instructions:\n",
        "# 1/ Fetch all columns from the reviews table\n",
        "# 2/ Make sure you filtered the data to listing_id=657377039990074158\n",
        "\n",
        "# TO BE COMPLETED\n",
        "query = \"\"\"\n",
        "SELECT ???\n",
        "\"\"\"\n",
        "\n",
        "run(query)\n",
        "check(q1_2_7b = query)"
      ],
      "metadata": {
        "id": "aAeYHhtgU6va"
      },
      "execution_count": null,
      "outputs": []
    },
    {
      "cell_type": "markdown",
      "source": [
        "It doesn't seem to have any past reviews either 😮 Maybe we need to help Rick get some testimonials.\n"
      ],
      "metadata": {
        "id": "n8Wq6HSRw3--"
      }
    },
    {
      "cell_type": "code",
      "source": [
        "### Question: q1_2_7c\n",
        "# Instructions:\n",
        "# 1/ Fetch all columns from the listings table\n",
        "# 2/ Make sure you filtered the data to listing_id=657377039990074158\n",
        "\n",
        "# TO BE COMPLETED\n",
        "query = \"\"\"\n",
        "SELECT ???\n",
        "\"\"\"\n",
        "\n",
        "run(query)\n",
        "check(q1_2_7c = query)"
      ],
      "metadata": {
        "id": "C7AFzZcaU7RS"
      },
      "execution_count": null,
      "outputs": []
    },
    {
      "cell_type": "markdown",
      "source": [
        "The contributing factors we found are: the price of his apartment is a bit steep compared to others, it has no reviews, and it is not available for booking on any of the given days this week."
      ],
      "metadata": {
        "id": "a6PdvIBbT6OD"
      }
    },
    {
      "cell_type": "markdown",
      "source": [
        "## (Extra Credit) Part 6: Beat the competition!\n",
        "\n",
        "A host calls in and is wondering how to price her listing. She wants to price her listing at least \\$400 since it’s a really nice space. She’s concerned she’ll be too expensive for Airbnb Sydney, and considering a competitor VRBO. Oh no! It’s your job as GM to get her on Airbnb.\n",
        "First, let’s write a query to show how many listings are greater than or equal to \\$400. You are pretty sure there are some listings at her price range."
      ],
      "metadata": {
        "id": "zc5OIelYez0O"
      }
    },
    {
      "cell_type": "code",
      "source": [
        "### Question: q1_2_10a\n",
        "# Instructions:\n",
        "# 1/ Fetch all columns from the listings table\n",
        "# 2/ Make sure you filter listings, having a price_in_dollar greater than or equal to 400 dollars\n",
        "# 3/ Make sure you order the list by price_in_dollar ascendingly\n",
        "\n",
        "# TO BE COMPLETED\n",
        "query = \"\"\"\n",
        "SELECT ???\n",
        "\"\"\"\n",
        "\n",
        "run(query)\n",
        "check(q1_2_10a = query)"
      ],
      "metadata": {
        "id": "pq4MPu4DezFp"
      },
      "execution_count": null,
      "outputs": []
    },
    {
      "cell_type": "markdown",
      "source": [
        "Now, we want to send her a list of listings to check out greater than or equal to \\$400, but in neighborhood’s 20 and 26 (near where she lives)."
      ],
      "metadata": {
        "id": "lYK0QXmPfTWM"
      }
    },
    {
      "cell_type": "code",
      "source": [
        "### Question: q1_2_10b\n",
        "# Instructions:\n",
        "# 1/ Fetch all columns from the listings table\n",
        "# 2/ Make sure you filter listings, having a price_in_dollar greater than or equal to than 400 dollars\n",
        "# 3/ Make sure you filter listings also on having neighbourhood_id 20 or 26\n",
        "# 4/ Make sure you order the list by price_in_dollar ascendingly\n",
        "\n",
        "# TO BE COMPLETED\n",
        "query = \"\"\"\n",
        "SELECT ???\n",
        "\"\"\"\n",
        "\n",
        "run(query)\n",
        "check(q1_2_10b = query)"
      ],
      "metadata": {
        "id": "y3SVJVjJftAA"
      },
      "execution_count": null,
      "outputs": []
    },
    {
      "cell_type": "markdown",
      "source": [
        "Great, there should be a couple in those neighbourhoods! She wants to read the reviews of all these listings if possible. Can you write a query to from reviews table that returns the listings for all of these places? Anything to learn? Maybe having a pool is important :)"
      ],
      "metadata": {
        "id": "gq8tclQXfTT6"
      }
    },
    {
      "cell_type": "code",
      "source": [
        "### Question: q1_2_10c\n",
        "# Instructions:\n",
        "# 1/ Fetch all columns from the reviews table\n",
        "# 2/ Make sure you filter reviews based on listing_id: 21443493, 10729688, 9012529, 46159786, and 9376988\n",
        "# 3/ Make sure you order the list by listing_id ascendingly\n",
        "\n",
        "# TO BE COMPLETED\n",
        "query = \"\"\"\n",
        "SELECT ???\n",
        "\"\"\"\n",
        "\n",
        "run(query)\n",
        "check(q1_2_10c = query)"
      ],
      "metadata": {
        "id": "wDgFhG5_gCbo"
      },
      "execution_count": null,
      "outputs": []
    },
    {
      "cell_type": "markdown",
      "source": [
        "----\n",
        "\n",
        "## (Extra Credit) Part 7: Money talks\n",
        "\n",
        "Analysis reveals there seeme to be a big difference in prices per listing (up to 500x). This is to be expected since some areas are closer to points of interests and/or offer more luxury.\n",
        "\n",
        "More expensive areas can net us higher sales since our cut/fee is a percentage of the price of the listing. However, cheaper areas potentially are more likely to be booked.\n",
        "\n",
        "So for now we are interested in those areas to analyze their avaiblility and their potential differences.\n",
        "\n",
        "Let's first start with the cheapest neighbourhoods. The top three cheapest are neighbourhood ids number 21, 28 and 4. Can you retrieve all the listings from these neighbourhoods?"
      ],
      "metadata": {
        "id": "7eitfWnG7nov"
      }
    },
    {
      "cell_type": "code",
      "source": [
        "### Question: q1_2_8a\n",
        "# Instructions:\n",
        "# 1/ Fetch all columns from the listings table\n",
        "# 2/ Make sure you filter listings based on neighbourhood_id: 21, 28, and 4\n",
        "\n",
        "# TO BE COMPLETED\n",
        "query = \"\"\"\n",
        "SELECT ???\n",
        "\"\"\"\n",
        "\n",
        "run(query)\n",
        "check(q1_2_8a = query)"
      ],
      "metadata": {
        "id": "CAxNk2C9ACdv"
      },
      "execution_count": null,
      "outputs": []
    },
    {
      "cell_type": "markdown",
      "source": [
        "The prices of these four listings range between 40 to 80 dollar. What about the most expensive neighbourhoods with id 1, 26 and 37? These listings are expected to be more and a lot more expensive listings so please order the list by price_in_dollar."
      ],
      "metadata": {
        "id": "euD8AIZBAioq"
      }
    },
    {
      "cell_type": "code",
      "source": [
        "### Question: q1_2_8b\n",
        "# Instructions:\n",
        "# 1/ Fetch all columns from the listings table\n",
        "# 2/ Make sure you filter listings based on neighbourhood_id: 1, 26, and 37\n",
        "# 3/ Make sure you order the list by price_in_dollar ascendingly\n",
        "\n",
        "# TO BE COMPLETED\n",
        "query = \"\"\"\n",
        "SELECT ???\n",
        "\"\"\"\n",
        "\n",
        "run(query)\n",
        "check(q1_2_8b = query)"
      ],
      "metadata": {
        "id": "siMPdjCbA2hH"
      },
      "execution_count": null,
      "outputs": []
    },
    {
      "cell_type": "markdown",
      "source": [
        "Here it's revealed that we have 9 listings, with a varied amount of prices.\n",
        "\n",
        "Now, let's start comparing the calendar from the cheapest against the most expensive, which is available the most. The cheapest are listing_id: 22296011, 8476652, 28268415, and 40426054"
      ],
      "metadata": {
        "id": "7nWk_BMBMJTR"
      }
    },
    {
      "cell_type": "code",
      "source": [
        "### Question: q1_2_9a\n",
        "# Instructions:\n",
        "# 1/ Fetch all columns from the calendar table\n",
        "# 2/ Make sure you filter the data using the listing_ids above\n",
        "\n",
        "# TO BE COMPLETED\n",
        "query = \"\"\"\n",
        "SELECT ???\n",
        "\"\"\"\n",
        "\n",
        "run(query)\n",
        "check(q1_2_9a = query)"
      ],
      "metadata": {
        "id": "xkvRaabvAjsJ"
      },
      "execution_count": null,
      "outputs": []
    },
    {
      "cell_type": "markdown",
      "source": [
        "Now also let's do that for the listings from the most expensive neighbourhoods. These have the listing_id: 658279799851154919, 10549608, 41983356, 44284905, 2033151, 34027782, 46159786, 9376988, and 10111788"
      ],
      "metadata": {
        "id": "-1C_awoqkuhb"
      }
    },
    {
      "cell_type": "code",
      "source": [
        "### Question: q1_2_9b\n",
        "# Instructions:\n",
        "# 1/ Fetch all columns from the calendar table\n",
        "# 2/ Make sure you filter the data using the listing_ids above\n",
        "\n",
        "# TO BE COMPLETED\n",
        "query = \"\"\"\n",
        "SELECT ???\n",
        "\"\"\"\n",
        "\n",
        "run(query)\n",
        "check(q1_2_9b = query)"
      ],
      "metadata": {
        "id": "D94s-9xgkvE6"
      },
      "execution_count": null,
      "outputs": []
    },
    {
      "cell_type": "markdown",
      "source": [
        "If you count all the entries by hand we find that for the least expensive neighbourhouds we have 26 days registered, of which none are available for renting, which means for the coming week we have 0% availability in the cheap neighbourhoods. However, the most expensive neighbourhoods have 62 days registered of which the coming week 4 days are available for renting, which means around 6% availability for next week.\n",
        "\n",
        "On a larger scale these differences in availability of listings and thus revenue stream generated per listing are important. These data points might guide your focus as a General manager at Sydney Airbnb or pretty much any company which tries to make data-driven decisions.\n",
        "\n"
      ],
      "metadata": {
        "id": "pJqOQQBikv2G"
      }
    },
    {
      "cell_type": "markdown",
      "source": [
        "---\n",
        "\n",
        "# 🎉 CONGRATULATIONS\n",
        "\n",
        "You've made it to the end of the week 1 assignment! You should be proud. Next step submit the project on the CoRise platform by filling the form at the bottom here: https://corise.com/course/sql-crash-course/v2/module/week-1-project-instructions\n",
        "\n",
        "If you have any lingering questions, post them on Slack! As you know, we're always here to help.\n",
        "\n",
        "And, if you want any additional challenge questions, check out the bonus extensions below.\n",
        "\n",
        "---\n",
        "\n",
        "### Bonus: Extensions\n",
        "- You've heard feedback that one of the hosts is charging an exorbitant amount (5 digits) on one weekend. Can you look into the calendar table and find the listing id and the host information? Remember you have the powers of sort and limit\n",
        "- Explore the data more and come up with other questions that you could answer using SQL from the data we have!"
      ],
      "metadata": {
        "id": "oenMClwuUUqT"
      }
    },
    {
      "cell_type": "code",
      "source": [
        "# TO BE COMPLETED\n",
        "# We don't check results for the bonus, because you can explore it in any directions you want!\n",
        "# Also you can add as many cells at the bottom of the notebook as you like for more queries.\n",
        "\n",
        "query = \"\"\"\n",
        "SELECT ???\n",
        "\"\"\"\n",
        "\n",
        "run(query)"
      ],
      "metadata": {
        "id": "LSes1MDJoYw1"
      },
      "execution_count": null,
      "outputs": []
    }
  ]
}